{
 "cells": [
  {
   "cell_type": "code",
   "execution_count": 4,
   "metadata": {},
   "outputs": [],
   "source": [
    "vowels = ['a', 'e', 'i', 'o', 'u']\n",
    "def letter_count(string):\n",
    "    vowels_count = 0\n",
    "    consonants_count = 0\n",
    "    for char in string.lower().replace(\" \", \"\"):\n",
    "        if char in vowels:\n",
    "            vowels_count += 1\n",
    "        else:\n",
    "            consonants_count += 1\n",
    "    print(f\"Your text has {vowels_count} vowels and {consonants_count} constants\")"
   ]
  },
  {
   "cell_type": "code",
   "execution_count": 5,
   "metadata": {},
   "outputs": [
    {
     "name": "stdout",
     "output_type": "stream",
     "text": [
      "Your text has 6 vowels and 9 constants\n"
     ]
    }
   ],
   "source": [
    "letter_count(\"Today is Saturday\")"
   ]
  },
  {
   "cell_type": "code",
   "execution_count": 6,
   "metadata": {},
   "outputs": [
    {
     "name": "stdout",
     "output_type": "stream",
     "text": [
      "Your text has 6 vowels and 9 constants\n"
     ]
    }
   ],
   "source": [
    "vowels = ['a', 'e', 'i', 'o', 'u']\n",
    "count = 0\n",
    "text = input('Enter a text: ')\n",
    "for letter in text:\n",
    "    if letter.lower() in vowels:\n",
    "        count += 1\n",
    "text_count = text.replace(' ', '')\n",
    "print(f'Your text has {count} vowels and {len(text_count)-count} constants')"
   ]
  },
  {
   "cell_type": "code",
   "execution_count": 7,
   "metadata": {},
   "outputs": [
    {
     "name": "stdout",
     "output_type": "stream",
     "text": [
      "{'Apple': 30, 'Orange': 70, 'Melon': 40, 'Banana': 100, 'Pear': 80}\n"
     ]
    }
   ],
   "source": [
    "dict1 = {'Apple': 15, 'Orange': 35, 'Melon': 20, 'Banana': 50, 'Pear': 40}  \n",
    "dict2 = {}\n",
    "for key, value in dict1.items():\n",
    "    dict2[key] = value * 2\n",
    "\n",
    "print(dict2)"
   ]
  },
  {
   "cell_type": "code",
   "execution_count": 8,
   "metadata": {},
   "outputs": [
    {
     "data": {
      "text/plain": [
       "{'Apple': 30, 'Orange': 70, 'Melon': 40, 'Banana': 100, 'Pear': 80}"
      ]
     },
     "execution_count": 8,
     "metadata": {},
     "output_type": "execute_result"
    }
   ],
   "source": [
    "dict1 = {'Apple': 15, 'Orange': 35, 'Melon': 20, 'Banana': 50, 'Pear': 40}  \n",
    "for key in dict1:\n",
    "    dict1[key] *= 2\n",
    "    dict2 = dict1.copy()\n",
    "dict2"
   ]
  },
  {
   "cell_type": "code",
   "execution_count": 11,
   "metadata": {},
   "outputs": [
    {
     "name": "stdout",
     "output_type": "stream",
     "text": [
      "Tina!Tina!Tina!Tina!Tina\n"
     ]
    }
   ],
   "source": [
    "word = input('Enter a word: ')\n",
    "separator = input('Enter a separator: ')\n",
    "number = int(input('Enter a number: '))\n",
    "\n",
    "print(separator.join([word for i in range(number)]))"
   ]
  },
  {
   "cell_type": "code",
   "execution_count": 12,
   "metadata": {},
   "outputs": [
    {
     "name": "stdout",
     "output_type": "stream",
     "text": [
      "Hello*Hello*Hello*Hello*Hello*Hello\n"
     ]
    }
   ],
   "source": [
    "word = input(\"Enter a word: \")\n",
    "separator = input(\"Enter a separator character: \")\n",
    "repetitions = int(input(\"Number of repetitions: \"))\n",
    "words=[]\n",
    "for i in range(repetitions):\n",
    "    words.append(word)\n",
    "print(separator.join(words))"
   ]
  },
  {
   "cell_type": "code",
   "execution_count": 15,
   "metadata": {},
   "outputs": [
    {
     "data": {
      "text/plain": [
       "[{'make': 'Mercedes', 'model': 'S550', 'year': 2019, 'color': 'Black'},\n",
       " {'make': 'Ford', 'model': 'F150 XLT', 'year': 2018, 'color': 'Gray'},\n",
       " {'make': 'Audi', 'model': 'S7 Prestige', 'year': 2017, 'color': 'Blue'},\n",
       " {'make': 'Porsche', 'model': 'Cayman GT4', 'year': 2016, 'color': 'Gold'}]"
      ]
     },
     "execution_count": 15,
     "metadata": {},
     "output_type": "execute_result"
    }
   ],
   "source": [
    "cars = [{'make':'Ford', 'model':'F150 XLT','year':2018, 'color':'Gray'}, \\\n",
    "        {'make':'Porsche', 'model':'Cayman GT4', 'year':2016, 'color':'Gold'}, \\\n",
    "        {'make':'Audi', 'model': 'S7 Prestige', 'year':2017, 'color':'Blue'},\\\n",
    "        {'make':'Mercedes', 'model': 'S550', 'year':2019, 'color':'Black'}]\n",
    "cars.sort(reverse=True, key=lambda x:x['year'])\n",
    "cars"
   ]
  },
  {
   "cell_type": "code",
   "execution_count": 16,
   "metadata": {},
   "outputs": [
    {
     "data": {
      "text/plain": [
       "[{'make': 'Mercedes', 'model': 'S550', 'year': 2019, 'color': 'Black'},\n",
       " {'make': 'Ford', 'model': 'F150 XLT', 'year': 2018, 'color': 'Gray'},\n",
       " {'make': 'Audi', 'model': 'S7 Prestige', 'year': 2017, 'color': 'Blue'},\n",
       " {'make': 'Porsche', 'model': 'Cayman GT4', 'year': 2016, 'color': 'Gold'}]"
      ]
     },
     "execution_count": 16,
     "metadata": {},
     "output_type": "execute_result"
    }
   ],
   "source": [
    "cars = [{'make':'Ford', 'model':'F150 XLT','year':2018, 'color':'Gray'}, \\\n",
    "        {'make':'Porsche', 'model':'Cayman GT4', 'year':2016, 'color':'Gold'}, \\\n",
    "        {'make':'Audi', 'model': 'S7 Prestige', 'year':2017, 'color':'Blue'},\\\n",
    "        {'make':'Mercedes', 'model': 'S550', 'year':2019, 'color':'Black'}]\n",
    "new_cars = sorted(cars, reverse=True, key=lambda x:x['year'])\n",
    "new_cars"
   ]
  },
  {
   "cell_type": "code",
   "execution_count": 19,
   "metadata": {},
   "outputs": [],
   "source": [
    "import json\n",
    "json_car =  '{ \"Make\":\"Mercedes\", \"Model\":\"E-200\", \"Year\":2015 }'\n",
    "py_object = json.loads(json_car)\n",
    "# json.dumps(py_object)\n"
   ]
  },
  {
   "cell_type": "code",
   "execution_count": 36,
   "metadata": {},
   "outputs": [
    {
     "data": {
      "text/plain": [
       "1"
      ]
     },
     "execution_count": 36,
     "metadata": {},
     "output_type": "execute_result"
    }
   ],
   "source": [
    "def num_decodings(s):  # 1234\n",
    "    if not s:\n",
    "        return 0\n",
    "    n = len(s)\n",
    "    dp = [0] * (n + 1)\n",
    "    # tek haneli kodlamalar için başlangıç durumu\n",
    "    dp[0] = 1\n",
    "    dp[1] = 1 if s[0] != '0' else 0\n",
    "    for i in range(2, n + 1):\n",
    "        # tek haneli kodlama kontrolü\n",
    "        if s[i - 1] != '0':\n",
    "            dp[i] += dp[i - 1]\n",
    "        # iki haneli kodlama kontrolü\n",
    "        if s[i - 2] == '1' or (s[i - 2] == '2' and s[i - 1] <= '6'):\n",
    "            dp[i] += dp[i - 2]\n",
    "    return dp[n]\n",
    "num_decodings('279')"
   ]
  },
  {
   "cell_type": "code",
   "execution_count": 39,
   "metadata": {},
   "outputs": [
    {
     "data": {
      "text/plain": [
       "0"
      ]
     },
     "execution_count": 39,
     "metadata": {},
     "output_type": "execute_result"
    }
   ],
   "source": [
    "def number_decodings(s: str) -> int:\n",
    "    if not s:\n",
    "        return 1\n",
    "    if s[0] == '0':\n",
    "        return 0\n",
    "    if len(s) == 1:\n",
    "        return 1\n",
    "    if '10' <= s[:2] <= '26':\n",
    "        return number_decodings(s[1:]) + number_decodings(s[2:])\n",
    "    else:\n",
    "        return number_decodings(s[1:])\n",
    "    \n",
    "number_decodings('001')"
   ]
  },
  {
   "cell_type": "code",
   "execution_count": 42,
   "metadata": {},
   "outputs": [
    {
     "name": "stdout",
     "output_type": "stream",
     "text": [
      "['deer', 'deal']\n"
     ]
    }
   ],
   "source": [
    "set = ['dog', 'deer', 'deal', 'cat', 'crocodile', 'cow', 'chicken', 'chimpanzee' ]\n",
    "query=input(\"Enter a string\")\n",
    "result = []\n",
    "for word in set:\n",
    "    if word.startswith(query):\n",
    "        result.append(word)\n",
    "print(result)"
   ]
  },
  {
   "cell_type": "code",
   "execution_count": 46,
   "metadata": {},
   "outputs": [
    {
     "data": {
      "text/plain": [
       "5"
      ]
     },
     "execution_count": 46,
     "metadata": {},
     "output_type": "execute_result"
    }
   ],
   "source": [
    "def calc_steps(n):\n",
    "    if n == 1 or n==0:\n",
    "        return 1\n",
    "    elif n==2 :\n",
    "        return 2\n",
    "    elif n>2:\n",
    "        return calc_steps(n-1)+ calc_steps(n-2)\n",
    "\n",
    "calc_steps(4)"
   ]
  },
  {
   "cell_type": "code",
   "execution_count": 70,
   "metadata": {},
   "outputs": [
    {
     "data": {
      "text/plain": [
       "'araa'"
      ]
     },
     "execution_count": 70,
     "metadata": {},
     "output_type": "execute_result"
    }
   ],
   "source": [
    "def longest_substring_with_k_distinct_characters(s, k):\n",
    "    window_start = 0\n",
    "    max_length = 0\n",
    "    char_frequency = {}\n",
    "    longest_substring = \"\"\n",
    "\n",
    "    for window_end in range(len(s)):\n",
    "        right_char = s[window_end]\n",
    "        char_frequency[right_char] = char_frequency.get(right_char, 0) + 1\n",
    "\n",
    "        while len(char_frequency) > k:\n",
    "            left_char = s[window_start]\n",
    "            char_frequency[left_char] -= 1\n",
    "            if char_frequency[left_char] == 0:\n",
    "                del char_frequency[left_char]\n",
    "            window_start += 1\n",
    "\n",
    "        if window_end - window_start + 1 > max_length:\n",
    "            max_length = window_end - window_start + 1\n",
    "            longest_substring = s[window_start:window_end+1]\n",
    "\n",
    "    return longest_substring\n",
    "\n",
    "longest_substring_with_k_distinct_characters(\"araaci\", 2)"
   ]
  },
  {
   "cell_type": "code",
   "execution_count": 63,
   "metadata": {},
   "outputs": [
    {
     "data": {
      "text/plain": [
       "[10]"
      ]
     },
     "execution_count": 63,
     "metadata": {},
     "output_type": "execute_result"
    }
   ],
   "source": [
    "def max_array(arr, k):\n",
    "    result= []\n",
    "    if not 1 <= k <= len(arr):\n",
    "        return \"something wrong\"\n",
    "    else:\n",
    "        for i in range(0,len(arr)-k+1):\n",
    "            result.append(max(arr[i:i+k]))\n",
    "    return result\n",
    "\n",
    "max_array([10, 5, 2, 7, 8, 7], 6 )"
   ]
  },
  {
   "cell_type": "code",
   "execution_count": 79,
   "metadata": {},
   "outputs": [
    {
     "data": {
      "text/plain": [
       "27"
      ]
     },
     "execution_count": 79,
     "metadata": {},
     "output_type": "execute_result"
    }
   ],
   "source": [
    "# workshop-1 baseball game python challenge\n",
    "def calc_records(arr):\n",
    "    record= []\n",
    "    for item in arr:\n",
    "        if item == 'C':\n",
    "            record.pop()\n",
    "        elif item == 'D':\n",
    "            record.append(int(record[-1])*2)\n",
    "        elif item == '+':\n",
    "            record.append(int(record[-1]) + int(record[-2]))\n",
    "        else:\n",
    "            record.append(int(item))\n",
    "    return sum(record)\n",
    "\n",
    "calc_records(['5', '-2', '4', 'C', 'D', '9', '+', '+'])"
   ]
  }
 ],
 "metadata": {
  "kernelspec": {
   "display_name": "Python 3",
   "language": "python",
   "name": "python3"
  },
  "language_info": {
   "codemirror_mode": {
    "name": "ipython",
    "version": 3
   },
   "file_extension": ".py",
   "mimetype": "text/x-python",
   "name": "python",
   "nbconvert_exporter": "python",
   "pygments_lexer": "ipython3",
   "version": "3.11.3"
  },
  "orig_nbformat": 4
 },
 "nbformat": 4,
 "nbformat_minor": 2
}
