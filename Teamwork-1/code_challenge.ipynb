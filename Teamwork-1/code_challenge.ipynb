{
 "cells": [
  {
   "cell_type": "code",
   "execution_count": 3,
   "metadata": {},
   "outputs": [
    {
     "name": "stdout",
     "output_type": "stream",
     "text": [
      "Your string has 6 vowels and 9 consonants\n"
     ]
    }
   ],
   "source": [
    "vowels = ['a', 'e', 'i', 'o', 'u']\n",
    "consonants = ['b', 'c', 'd', 'f', 'g', 'h', 'j', 'k', 'l',\n",
    "              'm', 'n', 'p', 'q', 'r', 's', 't', 'v', 'w',\n",
    "              'x', 'y', 'z']\n",
    "def letter_count(string):\n",
    "    vowels_counter = 0\n",
    "    consonants_counter = 0\n",
    "    for char in string.lower():\n",
    "        if char in vowels:\n",
    "            vowels_counter += 1\n",
    "        elif char in consonants:\n",
    "            consonants_counter += 1\n",
    "    print(f\"Your string has {vowels_counter} vowels and {consonants_counter} consonants\")\n",
    "\n",
    "letter_count(\"Today is Saturday\")\n"
   ]
  },
  {
   "cell_type": "code",
   "execution_count": 16,
   "metadata": {},
   "outputs": [
    {
     "name": "stdout",
     "output_type": "stream",
     "text": [
      "{'Apple': 30, 'Orange': 70, 'Melon': 40, 'Banana': 100, 'Pear': 80}\n"
     ]
    }
   ],
   "source": [
    "dict1 = {'Apple': 15, 'Orange': 35, 'Melon': 20, 'Banana': 50, 'Pear': 40}  \n",
    "dict2 = {}\n",
    "for key, value in dict1.items():\n",
    "    dict2[key] = value * 2\n",
    "print(dict2)\n"
   ]
  },
  {
   "cell_type": "code",
   "execution_count": null,
   "metadata": {},
   "outputs": [],
   "source": []
  },
  {
   "cell_type": "code",
   "execution_count": null,
   "metadata": {},
   "outputs": [],
   "source": []
  }
 ],
 "metadata": {
  "kernelspec": {
   "display_name": "Python 3",
   "language": "python",
   "name": "python3"
  },
  "language_info": {
   "codemirror_mode": {
    "name": "ipython",
    "version": 3
   },
   "file_extension": ".py",
   "mimetype": "text/x-python",
   "name": "python",
   "nbconvert_exporter": "python",
   "pygments_lexer": "ipython3",
   "version": "3.11.3"
  },
  "orig_nbformat": 4
 },
 "nbformat": 4,
 "nbformat_minor": 2
}
