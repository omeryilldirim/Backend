{
 "cells": [
  {
   "cell_type": "code",
   "execution_count": 1,
   "metadata": {},
   "outputs": [
    {
     "name": "stdout",
     "output_type": "stream",
     "text": [
      "Your string has 6 vowels and 0 consonants\n"
     ]
    }
   ],
   "source": [
    "vowels = ['a', 'e', 'i', 'o', 'u']\n",
    "consonants = ['b', 'c', 'd', 'f', 'g', 'h', 'j', 'k', 'l','m', 'n', 'p', 'q', 'r', 's', 't', 'v', 'w','x', 'y', 'z'],\n",
    "def letter_count(string):\n",
    "    vowels_counter = 0\n",
    "    consonants_counter = 0\n",
    "    for char in string.lower():\n",
    "        if char in vowels:\n",
    "            vowels_counter += 1\n",
    "        elif char in consonants:\n",
    "            consonants_counter += 1\n",
    "    print(f\"Your string has {vowels_counter} vowels and {consonants_counter} consonants\")\n",
    "\n",
    "letter_count(\"Today is Saturday\")\n"
   ]
  },
  {
   "cell_type": "code",
   "execution_count": 2,
   "metadata": {},
   "outputs": [
    {
     "name": "stdout",
     "output_type": "stream",
     "text": [
      "{'Apple': 30, 'Orange': 70, 'Melon': 40, 'Banana': 100, 'Pear': 80}\n"
     ]
    }
   ],
   "source": [
    "dict1 = {'Apple': 15, 'Orange': 35, 'Melon': 20, 'Banana': 50, 'Pear': 40}\n",
    "dict2 = {}\n",
    "for key, value in dict1.items():\n",
    "    dict2[key] = value * 2\n",
    "print(dict2)"
   ]
  },
  {
   "cell_type": "code",
   "execution_count": 4,
   "metadata": {},
   "outputs": [
    {
     "name": "stdout",
     "output_type": "stream",
     "text": [
      "tina*tina\n"
     ]
    }
   ],
   "source": [
    "word = input(\"Enter a word:\")\n",
    "separator = input(\"Enter a separator:\")\n",
    "rep_times = int(input(\"Enter a number:\"))\n",
    "print(separator.join([word for i in range(rep_times)]))"
   ]
  },
  {
   "cell_type": "code",
   "execution_count": 6,
   "metadata": {},
   "outputs": [
    {
     "name": "stdout",
     "output_type": "stream",
     "text": [
      "[{'make': 'Mercedes', 'model': 'S550', 'year': 2019, 'color': 'Black'}, {'make': 'Ford', 'model': 'F150 XLT', 'year': 2018, 'color': 'Gray'}, {'make': 'Audi', 'model': 'S7 Prestige', 'year': 2017, 'color': 'Blue'}, {'make': 'Porsche', 'model': 'Cayman GT4', 'year': 2016, 'color': 'Gold'}]\n"
     ]
    }
   ],
   "source": [
    "cars= [{'make':'Ford', 'model':'F150 XLT','year':2018, 'color':'Gray'}, {'make':'Porsche', 'model':'Cayman GT4', 'year':2016, 'color':'Gold'}, {'make':'Audi', 'model': 'S7 Prestige', 'year':2017, 'color':'Blue'},{'make':'Mercedes', 'model': 'S550', 'year':2019, 'color':'Black'}]\n",
    "\n",
    "cars.sort(reverse=True, key=lambda x: x['year'])\n",
    "print(cars)"
   ]
  },
  {
   "cell_type": "code",
   "execution_count": 7,
   "metadata": {},
   "outputs": [
    {
     "name": "stdout",
     "output_type": "stream",
     "text": [
      "{'Make': 'Mercedes', 'Model': 'E-200', 'Year': 2015}\n"
     ]
    }
   ],
   "source": [
    "import json\n",
    "\n",
    "json_car =  '{ \"Make\":\"Mercedes\", \"Model\":\"E-200\", \"Year\":2015 }'\n",
    "car = json.loads(json_car)\n",
    "print(car)"
   ]
  },
  {
   "cell_type": "code",
   "execution_count": null,
   "metadata": {},
   "outputs": [],
   "source": [
    "# This is an interview question asked by Facebook.\n",
    "\n",
    "# Given the mapping a = 1, b = 2, ... z = 26, and an encoded message, count the number of ways it can be decoded.\n",
    "\n",
    "# For example, the message '111' would give 3, since it could be decoded as 'aaa', 'ka', and 'ak'.\n",
    "\n",
    "# You can assume that the messages are decodable. For example, '001' is not allowed.\n",
    "\n",
    "a,b,c,d,e,f,g,h,i,j,k,l,m,n,o,p,q,r,s,t,u,v,w,x,y,z = 1,2,3,4,5,6,7,8,9,10,11,12,13,14,15,16,17,18,19,20,21,22,23,24,25,26"
   ]
  },
  {
   "cell_type": "code",
   "execution_count": 8,
   "metadata": {},
   "outputs": [
    {
     "name": "stdout",
     "output_type": "stream",
     "text": [
      "7\n"
     ]
    }
   ],
   "source": [
    "# yağmur suyu depolama\n",
    "# bir çubuğun genişliğinin 1 olduğu bir yükseklik haritasını temsil eden N negatif olmayan tamsayı arr[] dizisi verildiğinde , yağmurdan sonra ne kadar su tutabileceğini hesaplayın.\n",
    "# Sezgi: Problemin temel sezgisi şu şekildedir:\n",
    "# ·       Solda ve sağda daha yüksek çubuklar varsa, dizinin bir öğesi suyu depolayabilir.\n",
    "# ·       Sağ ve sol taraftaki çubukların yükseklikleri bulunarak her pozisyonda depolanacak su miktarı bulunur.\n",
    "# ·       Depolanan toplam su miktarı, her indekste depolanan suyun toplamıdır.\n",
    "# Örneğin – arr[] = {3, 0, 2, 0, 4} dizisini düşünün .\n",
    "# İki indeks 1 ve 3'te üç birim su ve indeks 2'de bir birim su depolanabilir.\n",
    "# Her bir endekste depolanan su = 0 + 3 + 1 + 3 + 0 = 7\n",
    "\n",
    "def rain_water(arr):\n",
    "    water = 0\n",
    "    for i in range(1, len(arr) - 1):\n",
    "        left = max(arr[:i])\n",
    "        right = max(arr[i + 1:])\n",
    "        if arr[i] < left and arr[i] < right:\n",
    "            water += min(left, right) - arr[i]\n",
    "    return water\n",
    "\n",
    "def store_water(arr):\n",
    "    water = 0\n",
    "    for i in range(1, len(arr)-1):\n",
    "        left = max(arr[:i])\n",
    "        right = max(arr[i + 1:])\n",
    "        water += min(left, right) - arr[i]\n",
    "    return water\n",
    "\n",
    "print(store_water([3, 0, 2, 0, 4]))\n"
   ]
  },
  {
   "cell_type": "code",
   "execution_count": 9,
   "metadata": {},
   "outputs": [
    {
     "name": "stdout",
     "output_type": "stream",
     "text": [
      "['deer', 'deal']\n"
     ]
    }
   ],
   "source": [
    "# This is an interview question asked by Twitter.\n",
    "\n",
    "# Implement an autocomplete system. That is, given a query string s and a set of all possible query strings, return all strings in the set that have s as a prefix.\n",
    "\n",
    "# For example, given the query string de and the set of strings [dog, deer, deal], return [deer, deal].\n",
    "\n",
    "set = ['dog', 'deer', 'deal', 'cat', 'crocodile', 'cow', 'chicken', 'chimpanzee' ]\n",
    "query = 'de'\n",
    "result = []\n",
    "for word in set:\n",
    "    if word.startswith(query):\n",
    "        result.append(word)\n",
    "print(result)"
   ]
  },
  {
   "cell_type": "code",
   "execution_count": null,
   "metadata": {},
   "outputs": [],
   "source": [
    "# This is an interview question asked by Amazon.\n",
    "# There exists a staircase with N steps, and you can climb up either 1 or 2 steps at a time. Given N, write a function that returns the number of unique ways you can climb the staircase. The order of the steps matters.\n",
    "# For example, if N is 4, then there are 5 unique ways:\n",
    "\n",
    "# 1, 1, 1, 1  \n",
    "# 2, 1, 1  \n",
    "# 1, 2, 1  \n",
    "# 1, 1, 2  \n",
    "# 2, 2  "
   ]
  },
  {
   "cell_type": "code",
   "execution_count": null,
   "metadata": {},
   "outputs": [],
   "source": [
    "# This is an interview question asked by Amazon.\n",
    "\n",
    "# Given an integer k and a string s, find the length of the longest substring that contains at most k distinct characters.\n",
    "\n",
    "# For example, given s = \"abcba\" and k = 2, the longest substring with k distinct characters is \"bcb\"."
   ]
  },
  {
   "cell_type": "code",
   "execution_count": null,
   "metadata": {},
   "outputs": [],
   "source": [
    "# This is an interview question asked by Google.\n",
    "\n",
    "# Given an array of integers and a number k, where 1 <= k <= length of the array, compute the maximum values of each subarray of length k.\n",
    "\n",
    "# For example, given array = [10, 5, 2, 7, 8, 7] and k = 3, we should get: [10, 7, 8, 8], since:\n",
    "\n",
    "# 10 = max(10, 5, 2) \n",
    "# 7 = max(5, 2, 7) \n",
    "# 8 = max(2, 7, 8) \n",
    "# 8 = max(7, 8, 7) "
   ]
  }
 ],
 "metadata": {
  "kernelspec": {
   "display_name": "Python 3",
   "language": "python",
   "name": "python3"
  },
  "language_info": {
   "codemirror_mode": {
    "name": "ipython",
    "version": 3
   },
   "file_extension": ".py",
   "mimetype": "text/x-python",
   "name": "python",
   "nbconvert_exporter": "python",
   "pygments_lexer": "ipython3",
   "version": "3.11.3"
  },
  "orig_nbformat": 4
 },
 "nbformat": 4,
 "nbformat_minor": 2
}
