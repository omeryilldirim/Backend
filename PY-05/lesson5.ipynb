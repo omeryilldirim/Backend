{
 "cells": [
  {
   "attachments": {},
   "cell_type": "markdown",
   "metadata": {},
   "source": [
    "#### Exception Handling"
   ]
  },
  {
   "cell_type": "code",
   "execution_count": 25,
   "metadata": {},
   "outputs": [],
   "source": [
    "# class code-challenge\n",
    "\n",
    "# def calc_BMI(weight, height):\n",
    "#     \"\"\"Body Mass Index is a simple calculation using a person’s height and weight. The formula is BMI = kg/m2 where kg is a person’s weight in kilograms and m2 is their height in metres squared.\"\"\"\n",
    "#     BMI = round(weight / (height ** 2), 1)\n",
    "#     if BMI < 25:\n",
    "#         return f\"Your body mass index is {BMI}. You are underweight.\"\n",
    "#     elif 25 <= BMI < 30.0:\n",
    "#         return f\"Your body mass index is {BMI}. You are normal weight.\"\n",
    "#     elif BMI > 30.0:\n",
    "#         return f\"Your body mass index is {BMI}. You are overweight.\"\n",
    "#     else:\n",
    "#         return \"Something went wrong\""
   ]
  },
  {
   "cell_type": "code",
   "execution_count": 26,
   "metadata": {},
   "outputs": [],
   "source": [
    "# calc_BMI(75, 1.79)"
   ]
  },
  {
   "cell_type": "code",
   "execution_count": 27,
   "metadata": {},
   "outputs": [
    {
     "ename": "ZeroDivisionError",
     "evalue": "division by zero",
     "output_type": "error",
     "traceback": [
      "\u001b[0;31m---------------------------------------------------------------------------\u001b[0m",
      "\u001b[0;31mZeroDivisionError\u001b[0m                         Traceback (most recent call last)",
      "Cell \u001b[0;32mIn[27], line 1\u001b[0m\n\u001b[0;32m----> 1\u001b[0m \u001b[39m5\u001b[39;49m \u001b[39m/\u001b[39;49m \u001b[39m0\u001b[39;49m\n",
      "\u001b[0;31mZeroDivisionError\u001b[0m: division by zero"
     ]
    }
   ],
   "source": [
    "5 / 0"
   ]
  },
  {
   "cell_type": "code",
   "execution_count": null,
   "metadata": {},
   "outputs": [
    {
     "name": "stdout",
     "output_type": "stream",
     "text": [
      "5.0\n",
      "Everything is fine\n"
     ]
    }
   ],
   "source": [
    "num1 = 5\n",
    "num2 = 1\n",
    "\n",
    "try:\n",
    "    print(num1 / num2)\n",
    "except ZeroDivisionError:\n",
    "    print(\"You can't divide by zero\")\n",
    "    print(ZeroDivisionError)\n",
    "except TypeError as e:\n",
    "    print(\"There is a problem with the type of data you are using\")\n",
    "    print(e)\n",
    "except:\n",
    "    print(\"Something went wrong\")\n",
    "\n"
   ]
  },
  {
   "cell_type": "code",
   "execution_count": null,
   "metadata": {},
   "outputs": [
    {
     "name": "stdout",
     "output_type": "stream",
     "text": [
      "Something went wrong\n",
      "This will always run\n"
     ]
    }
   ],
   "source": [
    "# EXCEPT çalışırsa ELSE çalışmaz.\n",
    "try:\n",
    "    print(num1 / num3)\n",
    "except:\n",
    "    print(\"Something went wrong\")\n",
    "else:\n",
    "    print(\"Everything is fine\")\n",
    "finally:\n",
    "    print(\"This will always run\")"
   ]
  },
  {
   "cell_type": "code",
   "execution_count": 31,
   "metadata": {},
   "outputs": [],
   "source": [
    "def calc_BMI(weight, height):\n",
    "    \"\"\"Body Mass Index is a simple calculation using a person’s height and weight. The formula is BMI = kg/m2 where kg is a person’s weight in kilograms and m2 is their height in metres squared.\"\"\"\n",
    "    try:\n",
    "        BMI = round(weight / (height ** 2), 1)\n",
    "    except TypeError:\n",
    "        return \"You entered a string value\"\n",
    "    except ZeroDivisionError:\n",
    "        return \"You entered zero\"\n",
    "    except:\n",
    "        return \"Something went wrong\"\n",
    "    else:\n",
    "        if BMI < 18.5:\n",
    "            return f\"Your body mass index is {BMI}. You are underweight.\"\n",
    "        elif 18.5 <= BMI < 25:\n",
    "            return f\"Your body mass index is {BMI}. You are normal weight.\"\n",
    "        elif 25 <= BMI < 30:\n",
    "            return f\"Your body mass index is {BMI}. You are overweight.\"\n",
    "        else:\n",
    "            return f\"Your body mass index is {BMI}. You are obese.\"\n",
    "    finally:\n",
    "        print(\"This will always run\")\n",
    "\n"
   ]
  },
  {
   "cell_type": "code",
   "execution_count": 36,
   "metadata": {},
   "outputs": [
    {
     "name": "stdout",
     "output_type": "stream",
     "text": [
      "This will always run\n"
     ]
    },
    {
     "data": {
      "text/plain": [
       "'Your body mass index is 24.7. You are normal weight.'"
      ]
     },
     "execution_count": 36,
     "metadata": {},
     "output_type": "execute_result"
    }
   ],
   "source": [
    "calc_BMI(80,1.8)"
   ]
  },
  {
   "cell_type": "code",
   "execution_count": 37,
   "metadata": {},
   "outputs": [
    {
     "data": {
      "text/plain": [
       "-3.0"
      ]
     },
     "execution_count": 37,
     "metadata": {},
     "output_type": "execute_result"
    }
   ],
   "source": [
    "num3= 3\n",
    "num4 = -1\n",
    "\n",
    "num3/num4"
   ]
  },
  {
   "cell_type": "code",
   "execution_count": 39,
   "metadata": {},
   "outputs": [
    {
     "ename": "Exception",
     "evalue": "You entered a negative number",
     "output_type": "error",
     "traceback": [
      "\u001b[0;31m---------------------------------------------------------------------------\u001b[0m",
      "\u001b[0;31mException\u001b[0m                                 Traceback (most recent call last)",
      "Cell \u001b[0;32mIn[39], line 2\u001b[0m\n\u001b[1;32m      1\u001b[0m \u001b[39mif\u001b[39;00m num4 \u001b[39m<\u001b[39m \u001b[39m0\u001b[39m:\n\u001b[0;32m----> 2\u001b[0m     \u001b[39mraise\u001b[39;00m \u001b[39mException\u001b[39;00m(\u001b[39m\"\u001b[39m\u001b[39mYou entered a negative number\u001b[39m\u001b[39m\"\u001b[39m)\n",
      "\u001b[0;31mException\u001b[0m: You entered a negative number"
     ]
    }
   ],
   "source": [
    "if num4 < 0:\n",
    "    raise Exception(\"You entered a negative number\")"
   ]
  },
  {
   "cell_type": "code",
   "execution_count": 40,
   "metadata": {},
   "outputs": [
    {
     "ename": "TypeError",
     "evalue": "You should enter an integer",
     "output_type": "error",
     "traceback": [
      "\u001b[0;31m---------------------------------------------------------------------------\u001b[0m",
      "\u001b[0;31mTypeError\u001b[0m                                 Traceback (most recent call last)",
      "Cell \u001b[0;32mIn[40], line 4\u001b[0m\n\u001b[1;32m      1\u001b[0m var1 \u001b[39m=\u001b[39m \u001b[39m\"\u001b[39m\u001b[39mstring\u001b[39m\u001b[39m\"\u001b[39m\n\u001b[1;32m      3\u001b[0m \u001b[39mif\u001b[39;00m \u001b[39mnot\u001b[39;00m \u001b[39mtype\u001b[39m(var1) \u001b[39mis\u001b[39;00m \u001b[39mint\u001b[39m:\n\u001b[0;32m----> 4\u001b[0m     \u001b[39mraise\u001b[39;00m \u001b[39mTypeError\u001b[39;00m(\u001b[39m\"\u001b[39m\u001b[39mYou should enter an integer\u001b[39m\u001b[39m\"\u001b[39m)\n",
      "\u001b[0;31mTypeError\u001b[0m: You should enter an integer"
     ]
    }
   ],
   "source": [
    "var1 = \"string\"\n",
    "\n",
    "if not type(var1) is int:\n",
    "    raise TypeError(\"You should enter an integer\")"
   ]
  },
  {
   "attachments": {},
   "cell_type": "markdown",
   "metadata": {},
   "source": [
    "### Decorators"
   ]
  },
  {
   "cell_type": "code",
   "execution_count": null,
   "metadata": {},
   "outputs": [],
   "source": []
  }
 ],
 "metadata": {
  "kernelspec": {
   "display_name": "Python 3",
   "language": "python",
   "name": "python3"
  },
  "language_info": {
   "codemirror_mode": {
    "name": "ipython",
    "version": 3
   },
   "file_extension": ".py",
   "mimetype": "text/x-python",
   "name": "python",
   "nbconvert_exporter": "python",
   "pygments_lexer": "ipython3",
   "version": "3.11.3"
  },
  "orig_nbformat": 4
 },
 "nbformat": 4,
 "nbformat_minor": 2
}
